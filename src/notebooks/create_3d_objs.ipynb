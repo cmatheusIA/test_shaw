{
 "cells": [
  {
   "cell_type": "code",
   "execution_count": 2,
   "metadata": {},
   "outputs": [],
   "source": [
    "import random\n",
    "\n",
    "# Function to generate a random float between two values\n",
    "def random_float(min_value, max_value):\n",
    "    return round(random.uniform(min_value, max_value), 2)\n",
    "\n",
    "# Function to create a random 3D object\n",
    "def create_random_object():\n",
    "    object_types = ['sphere', 'cube', 'cylinder']\n",
    "    obj = {\n",
    "        \"type\": random.choice(object_types),\n",
    "        \"position\": {\n",
    "            \"x\": random_float(-10, 10),\n",
    "            \"y\": random_float(-10, 10),\n",
    "            \"z\": random_float(-10, 10)\n",
    "        },\n",
    "        \"scale\": {\n",
    "            \"x\": random_float(0.5, 2.0),\n",
    "            \"y\": random_float(0.5, 2.0),\n",
    "            \"z\": random_float(0.5, 2.0)\n",
    "        },\n",
    "        \"rotation\": {\n",
    "            \"x\": random_float(0, 360),\n",
    "            \"y\": random_float(0, 360),\n",
    "            \"z\": random_float(0, 360)\n",
    "        }\n",
    "    }\n",
    "    return obj\n",
    "\n",
    "# Function to create a list of random 3D objects\n",
    "def create_random_objects(num_objects):\n",
    "    objects = []\n",
    "    for _ in range(num_objects):\n",
    "        objects.append(create_random_object())\n",
    "    return objects\n",
    "\n",
    "# Generate random 3D objects\n",
    "num_objects = 1  # Number of objects to create\n",
    "random_objects = create_random_objects(num_objects)"
   ]
  },
  {
   "cell_type": "code",
   "execution_count": 3,
   "metadata": {},
   "outputs": [
    {
     "data": {
      "text/plain": [
       "[{'type': 'cylinder',\n",
       "  'position': {'x': 2.88, 'y': 4.67, 'z': 8.36},\n",
       "  'scale': {'x': 1.4, 'y': 1.58, 'z': 0.83},\n",
       "  'rotation': {'x': 237.63, 'y': 322.0, 'z': 43.97}}]"
      ]
     },
     "execution_count": 3,
     "metadata": {},
     "output_type": "execute_result"
    }
   ],
   "source": [
    "random_objects"
   ]
  },
  {
   "cell_type": "code",
   "execution_count": null,
   "metadata": {},
   "outputs": [],
   "source": []
  }
 ],
 "metadata": {
  "kernelspec": {
   "display_name": "Python 3",
   "language": "python",
   "name": "python3"
  },
  "language_info": {
   "codemirror_mode": {
    "name": "ipython",
    "version": 3
   },
   "file_extension": ".py",
   "mimetype": "text/x-python",
   "name": "python",
   "nbconvert_exporter": "python",
   "pygments_lexer": "ipython3",
   "version": "3.12.5"
  }
 },
 "nbformat": 4,
 "nbformat_minor": 2
}
